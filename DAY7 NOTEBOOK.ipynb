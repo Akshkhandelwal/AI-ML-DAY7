{
 "cells": [
  {
   "cell_type": "code",
   "execution_count": 1,
   "metadata": {},
   "outputs": [
    {
     "name": "stdout",
     "output_type": "stream",
     "text": [
      "<class 'list'>\n",
      "['hey aksh\\n', ' whatsapp']\n",
      "hey aksh\n",
      " whatsapp\n"
     ]
    }
   ],
   "source": [
    "#ANS1\n",
    "fn = open('story.txt', 'r+') \n",
    "   \n",
    "fn1 = open('nfile.txt', 'w') \n",
    "\n",
    "cont = fn.readlines() \n",
    "type(cont)\n",
    "print(type(cont))\n",
    "print(cont)\n",
    "for i in range(0, len(cont)):  \n",
    "        fn1.write(cont[i]) \n",
    "   \n",
    "fn1.close() \n",
    "  \n",
    "fn1 = open('nfile.txt', 'r') \n",
    "  \n",
    "cont1 = fn1.read() \n",
    "  \n",
    "print(cont1) \n",
    "  \n",
    "\n",
    "fn.close() \n",
    "fn1.close() "
   ]
  },
  {
   "cell_type": "code",
   "execution_count": 2,
   "metadata": {},
   "outputs": [
    {
     "name": "stdout",
     "output_type": "stream",
     "text": [
      "{'a': 3, 'b': 2, 'c': 1}\n"
     ]
    },
    {
     "data": {
      "text/plain": [
       "(3, 1)"
      ]
     },
     "execution_count": 2,
     "metadata": {},
     "output_type": "execute_result"
    }
   ],
   "source": [
    "#ANS2\n",
    "def kk(**kwargs):\n",
    "    print(kwargs)\n",
    "    max=None\n",
    "    min=None\n",
    "    for i,j in kwargs.items():\n",
    "        if max is None or max<j :\n",
    "            max=j\n",
    "        elif min is None or min>j:\n",
    "            min=j\n",
    "        else:\n",
    "            return max,min\n",
    "    return max,min\n",
    "kk(a=3,b=2,c=1)"
   ]
  }
 ],
 "metadata": {
  "kernelspec": {
   "display_name": "Python 3",
   "language": "python",
   "name": "python3"
  },
  "language_info": {
   "codemirror_mode": {
    "name": "ipython",
    "version": 3
   },
   "file_extension": ".py",
   "mimetype": "text/x-python",
   "name": "python",
   "nbconvert_exporter": "python",
   "pygments_lexer": "ipython3",
   "version": "3.8.3"
  }
 },
 "nbformat": 4,
 "nbformat_minor": 4
}
